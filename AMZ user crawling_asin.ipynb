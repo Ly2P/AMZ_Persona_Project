{
 "cells": [
  {
   "cell_type": "code",
   "execution_count": null,
   "metadata": {},
   "outputs": [],
   "source": [
    "import requests\n",
    "from lxml import html\n",
    "from bs4 import BeautifulSoup\n",
    "from selenium import webdriver\n",
    "from selenium.webdriver.chrome.options import Options\n",
    "from selenium.webdriver.common.by import By\n",
    "from selenium.webdriver.common.keys import Keys\n",
    "import json\n",
    "import re\n",
    "import pandas as pd\n",
    "import os\n",
    "import time\n",
    "from random import randint"
   ]
  },
  {
   "cell_type": "code",
   "execution_count": null,
   "metadata": {},
   "outputs": [],
   "source": [
    "def open_browser():\n",
    "    ptions = Options()  # 調用虛擬瀏覽器Selenium\n",
    "    user_agent = \"Mozilla/5.0 (Windows NT 10.0; Win64; x64) AppleWebKit/537.36 (KHTML, like Gecko) Chrome/96.0.4664.45 Safari/537.36\"\n",
    "    opt = webdriver.ChromeOptions()\n",
    "    opt.add_argument('--user-agent=%s' % user_agent)\n",
    "    opt.add_argument('blink-settings=imagesEnabled=False')\n",
    "    opt.add_argument('--disable-dev-shm-usage')\n",
    "    opt.add_argument('--disable-gpu')\n",
    "    opt.add_argument('--disable-extensions')\n",
    "    opt.add_argument('lang=en')\n",
    "    global driver\n",
    "    driver = webdriver.Chrome('./chromedriver', chrome_options=opt)\n",
    "    driver.implicitly_wait(10) #隱式等待，最長等待10秒\n",
    "    res = driver.get(\"https://www.amazon.com/\")\n",
    "    return res"
   ]
  },
  {
   "cell_type": "code",
   "execution_count": null,
   "metadata": {},
   "outputs": [],
   "source": [
    "'''def Search_product_Name(product_name):\n",
    "    inputElement = driver.find_element_by_class_name(\n",
    "        \"nav-input.nav-progressive-attribute\")\n",
    "    inputElement.send_keys(Keys.CONTROL, 'a')\n",
    "    inputElement.send_keys(Keys.DELETE)\n",
    "    inputElement.send_keys(product_name)  # 搜尋產品名\n",
    "    inputElement.send_keys(Keys.ENTER)'''"
   ]
  },
  {
   "cell_type": "code",
   "execution_count": null,
   "metadata": {},
   "outputs": [],
   "source": [
    "'''def search_urls():\n",
    "    products_onPage = driver.find_elements_by_class_name(\n",
    "        'a-link-normal.s-no-outline')  # 取得搜尋頁面所有商品url\n",
    "    products_url_list = []\n",
    "    for i in products_onPage[0:11]: #Top10 result\n",
    "        tmp = i.get_attribute('href')  # webelement轉換\n",
    "        products_url_list.append(tmp)\n",
    "    return products_url_list'''\n"
   ]
  },
  {
   "cell_type": "code",
   "execution_count": null,
   "metadata": {},
   "outputs": [],
   "source": [
    "def click_user():\n",
    "    global user_name_list\n",
    "    user_name_list = driver.find_elements_by_class_name('a-profile')\n",
    "    return user_name_list"
   ]
  },
  {
   "cell_type": "code",
   "execution_count": null,
   "metadata": {},
   "outputs": [],
   "source": [
    "def get_info():\n",
    "    user_name = driver.find_elements_by_class_name('a-profile-name')\n",
    "    #product_name = driver.find_elements_by_class_name('a-section.profile-at-product-title-container.profile-at-product-box-element')\n",
    "    product_name = driver.find_elements_by_xpath('//*[@id=\"profile-at-card-container\"]/div/div[2]/div[2]/div')\n",
    "    profile_discriptor =  driver.find_elements_by_class_name('a-profile-descriptor')\n",
    "    ratings =  driver.find_elements_by_xpath('//*[@id=\"profile-at-card-container\"]/div/div[2]/div[2]/a/div[1]/div/i/span')\n",
    "    comment = driver.find_elements_by_class_name('a-spacing-small.a-spacing-top-mini.a-color-base.profile-at-review-text.profile-at-review-text-desktop')\n",
    "    asin = driver.find_elements_by_class_name('a-link-normal.profile-at-product-box-link.a-text-normal')\n",
    "    #print(len(user_name),len(product_name),len(profile_discriptor),len(ratings),len(comment))\n",
    "    print('Loading...')\n",
    "    tmp_format = pd.DataFrame({'user_name':[],'product_name':[],'review_date_place':[],'review_rating':[],'review_content':[],'Asin':[]})\n",
    "    k=0\n",
    "    for i in range(len(comment)):\n",
    "\n",
    "        if product_name[i].text != 'Product no longer available':\n",
    "            try:\n",
    "                _asin = str(asin[k].get_attribute('href').split('/dp/')[1].split('?ref')[0])\n",
    "            except:\n",
    "                _asin = str(asin[k].get_attribute('href').split('trackAsin=')[1].split('&ref')[0])\n",
    "            tmp_format = tmp_format.append({'user_name':user_name[i].text,'product_name':product_name[i].text,'review_date_place':profile_discriptor[i].text,'review_rating':ratings[i].get_attribute('innerHTML'),'review_content':comment[i].text,\n",
    "            'Asin':_asin},ignore_index=True)\n",
    "            k+=1\n",
    "        else:\n",
    "            tmp_format = tmp_format.append({'user_name':user_name[i].text,'product_name':product_name[i].text,'review_date_place':profile_discriptor[i].text,'review_rating':ratings[i].get_attribute('innerHTML'),'review_content':comment[i].text,\n",
    "            'Asin':\"None\"},ignore_index=True)\n",
    "        \n",
    "\n",
    "            \n",
    "    #print(tmp_format['Asin'][0])\n",
    "    return tmp_format\n",
    "    #print(len(tmp_format),tmp_format)\n",
    "    #print(user_name[0].text,product_name[0].text,profile_discriptor[0].text,ratings[0].get_attribute('innerHTML'),comment[0].text)"
   ]
  },
  {
   "cell_type": "code",
   "execution_count": null,
   "metadata": {},
   "outputs": [],
   "source": [
    "required_product = ['MOBIUZ']\n",
    "total_format = pd.DataFrame({'user_name':[],'product_name':[],'review_date_place':[],'review_rating':[],'review_content':[],'Asin':[]})\n",
    "user_format = pd.DataFrame({'user_name':[],'product_name':[],'review_date_place':[],'review_rating':[],'review_content':[],'Asin':[]}) #build empty format\n",
    "review_format = pd.DataFrame({'user_name':[],'product_name':[],'review_date_place':[],'review_rating':[],'review_content':[],'Asin':[]})"
   ]
  },
  {
   "cell_type": "code",
   "execution_count": null,
   "metadata": {},
   "outputs": [],
   "source": [
    "def Crawl_model_review_user(): #抓取model的評論資料\n",
    "    for p in range(1): #numbers review pages\n",
    "        reviewer = driver.find_elements_by_class_name('a-profile-name')\n",
    "        review_content = driver.find_elements_by_class_name('a-size-base.review-text.review-text-content')\n",
    "        review_date = driver.find_elements_by_class_name('a-size-base.a-color-secondary.review-date')\n",
    "        review_star = driver.find_elements_by_css_selector(\"i[data-hook='review-star-rating']\")\n",
    "        print(len( reviewer),len(review_content),len(review_date),len(review_star))\n",
    "        for n in range (2,len(review_content)):\n",
    "            review_format.append({'user_name':reviewer[n].text,'product_name':required_product[0],'review_date_place':review_date[n].text,'review_rating':review_star[n].get_attribute('innerHTML'),'review_content':review_content[n].text},ignore_index=True) #add data in format\n",
    "\n",
    "        time.sleep(3)\n",
    "        return review_format\n",
    "        "
   ]
  },
  {
   "cell_type": "code",
   "execution_count": null,
   "metadata": {},
   "outputs": [],
   "source": [
    "\n",
    "def get_user_info(): #在總評論頁面點擊用戶並獲取資料\n",
    "    user_format = pd.DataFrame({'user_name':[],'product_name':[],'review_date_place':[],'review_rating':[],'review_content':[],'Asin':[]}) #build empty format\n",
    "    for i in range(2,len(click_user())):\n",
    "        user_name_list = driver.find_elements_by_class_name('a-profile')\n",
    "        print('No.',i,'User in page...')\n",
    "        user_name_list[i].click()\n",
    "        time.sleep(5)\n",
    "        try:\n",
    "            user_format = user_format.append(get_info())\n",
    "            print('Userformat checking...',len(user_format),'Data collected')\n",
    "            time.sleep(3)\n",
    "            driver.back()\n",
    "        except:\n",
    "            driver.back()\n",
    "            continue\n",
    "        \n",
    "    return user_format"
   ]
  },
  {
   "cell_type": "markdown",
   "metadata": {},
   "source": [
    "執行程序"
   ]
  },
  {
   "cell_type": "code",
   "execution_count": null,
   "metadata": {},
   "outputs": [],
   "source": [
    "open_browser() #STEP1"
   ]
  },
  {
   "cell_type": "markdown",
   "metadata": {},
   "source": [
    "手動篩選適合產品頁 #STEP2"
   ]
  },
  {
   "cell_type": "code",
   "execution_count": null,
   "metadata": {},
   "outputs": [],
   "source": [
    "#STEP3 須回到商品頁\n",
    "#driver.find_element_by_class_name('a-link-emphasis.a-text-bold').click() #view all review\n",
    "#time.sleep(3)\n",
    "for i in range(100):\n",
    "    #total_format.append(Crawl_model_review_user())\n",
    "    total_format = total_format.append(get_user_info())\n",
    "    print('Total_format checking...\\n',len(total_format))\n",
    "    driver.find_element_by_xpath('//*[@id=\"cm_cr-pagination_bar\"]/ul/li[2]/a').click()#next review page\n",
    "    print('ChangePage....')\n",
    "    time.sleep(3)"
   ]
  },
  {
   "cell_type": "code",
   "execution_count": null,
   "metadata": {},
   "outputs": [],
   "source": [
    "print(total_format) #STEP4"
   ]
  },
  {
   "cell_type": "code",
   "execution_count": null,
   "metadata": {},
   "outputs": [],
   "source": [
    "total_format.to_csv('user_review_v1_'+required_product[0]+'.csv',encoding=\"utf_8_sig\")#STEP5"
   ]
  }
 ],
 "metadata": {
  "interpreter": {
   "hash": "33a22652e4c5420ca48c466d028533d7d344d7156c9445b0b6e045b564dc456b"
  },
  "kernelspec": {
   "display_name": "Python 3.9.6 64-bit",
   "language": "python",
   "name": "python3"
  },
  "language_info": {
   "codemirror_mode": {
    "name": "ipython",
    "version": 3
   },
   "file_extension": ".py",
   "mimetype": "text/x-python",
   "name": "python",
   "nbconvert_exporter": "python",
   "pygments_lexer": "ipython3",
   "version": "3.9.6"
  },
  "orig_nbformat": 4
 },
 "nbformat": 4,
 "nbformat_minor": 2
}
