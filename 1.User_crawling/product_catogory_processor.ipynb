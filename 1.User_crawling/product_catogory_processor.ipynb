{
 "cells": [
  {
   "cell_type": "code",
   "execution_count": null,
   "metadata": {},
   "outputs": [],
   "source": [
    "import pandas as pd\n",
    "import numpy as np\n",
    "from mlxtend.frequent_patterns import apriori ,fpgrowth\n",
    "from mlxtend.frequent_patterns import association_rules\n",
    "from mlxtend.preprocessing import TransactionEncoder\n",
    "import re"
   ]
  },
  {
   "cell_type": "markdown",
   "metadata": {},
   "source": [
    "原始資料讀取和檢視\n",
    "\n",
    "Input: user_review_Model_Name_with_category.csv"
   ]
  },
  {
   "cell_type": "code",
   "execution_count": null,
   "metadata": {},
   "outputs": [],
   "source": [
    "modelname = 'MOBIUZ'"
   ]
  },
  {
   "cell_type": "code",
   "execution_count": null,
   "metadata": {},
   "outputs": [],
   "source": [
    "raw = pd.read_csv('user_review_v1_'+modelname+'.csv') #根據model名修改檔名\n",
    "raw = raw.drop(columns=['Unnamed: 0'])\n",
    "#raw = raw.drop(columns='review_date_palce')\n",
    "for i in range(len(raw)):\n",
    "    raw['Asin'][i] = re.sub(r'[^a-zA-Z0-9]',\"\",raw['Asin'][i])\n",
    "raw.index = range(len(raw.index))\n",
    "raw"
   ]
  },
  {
   "cell_type": "markdown",
   "metadata": {},
   "source": [
    "Merge Category with Asin\n",
    "\n",
    "Input: ModelNameAsin_Category_list.csv"
   ]
  },
  {
   "cell_type": "code",
   "execution_count": null,
   "metadata": {},
   "outputs": [],
   "source": [
    "Category_list = pd.read_csv(f'Asin_Category_{modelname}_list.csv')\n",
    "Category_list = Category_list.drop(columns=['Unnamed: 0','Unnamed: 0.1'])\n",
    "for i in range(len(Category_list)):\n",
    "    for cl in ['Category','Sub_category']:\n",
    "        Category_list[cl][i] = re.sub(r'[^a-zA-Z0-9]',\" \",Category_list[cl][i])\n",
    "    for cla in ['Asin']:\n",
    "        Category_list[cla][i] = re.sub(r'[^a-zA-Z0-9]',\"\",Category_list[cla][i])\n",
    "\n",
    "Category_list"
   ]
  },
  {
   "cell_type": "code",
   "execution_count": null,
   "metadata": {},
   "outputs": [],
   "source": [
    "#print(Category_list['Asin'][0])\n",
    "#print(raw['Asin'][0])\n",
    "format = pd.merge(raw,Category_list)\n",
    "clean_format = format.drop_duplicates()\n",
    "clean_format.index = range(len(clean_format.index))\n",
    "clean_format"
   ]
  },
  {
   "cell_type": "code",
   "execution_count": null,
   "metadata": {},
   "outputs": [],
   "source": [
    "#原始Category數量\n",
    "clean_format.value_counts('Category')"
   ]
  },
  {
   "cell_type": "markdown",
   "metadata": {},
   "source": [
    "資料前處理: 1.根據商品名重新分類 2.時間格式處理"
   ]
  },
  {
   "cell_type": "code",
   "execution_count": null,
   "metadata": {},
   "outputs": [],
   "source": [
    "re_cate_format = clean_format\n"
   ]
  },
  {
   "cell_type": "code",
   "execution_count": null,
   "metadata": {},
   "outputs": [],
   "source": [
    "#調整時間格式\n",
    "print('時間處理前:',type(re_cate_format['review_date_place'][0]),re_cate_format['review_date_place'][0])\n",
    "\n",
    "for t in range(len(re_cate_format['review_date_place'])):\n",
    "    time_raw = str(re_cate_format['review_date_place'][t]).split('·')[1]\n",
    "    #若是中文時間格式則取消註解\n",
    "    '''\n",
    "    time_raw = time_raw.replace('年','-')\n",
    "    time_raw = time_raw.replace('月','-')\n",
    "    time_raw = time_raw.replace('日','')'''\n",
    "    re_cate_format['review_date_place'][t] = time_raw\n",
    "re_cate_format['review_date_place'] = pd.to_datetime(re_cate_format['review_date_place'])\n",
    "\n",
    "print('時間處理後:',type(re_cate_format['review_date_place'][0]),re_cate_format['review_date_place'][0])\n"
   ]
  },
  {
   "cell_type": "code",
   "execution_count": null,
   "metadata": {},
   "outputs": [],
   "source": [
    "re_cate_format.to_excel(modelname+'_Clean_Format.xlsx')"
   ]
  },
  {
   "cell_type": "markdown",
   "metadata": {},
   "source": [
    "資料後處理 (時間篩選)"
   ]
  },
  {
   "cell_type": "code",
   "execution_count": null,
   "metadata": {},
   "outputs": [],
   "source": [
    "start_time = '2018-01-01'\n",
    "end_time = '2021-12-31'"
   ]
  },
  {
   "cell_type": "code",
   "execution_count": null,
   "metadata": {},
   "outputs": [],
   "source": [
    "time_re_cate_format = re_cate_format.loc[(re_cate_format['review_date_place'] >= start_time) #時間起始點\n",
    "                                       & (re_cate_format['review_date_place'] < end_time)] #時間終點\n",
    "time_re_cate_format"
   ]
  },
  {
   "cell_type": "code",
   "execution_count": null,
   "metadata": {},
   "outputs": [],
   "source": [
    "format_by_name = time_re_cate_format.groupby(['user_name'])\n",
    "name_list = np.unique(time_re_cate_format['user_name'])\n",
    "print('用戶名單:',name_list[:5],'...')\n",
    "print('用戶數:',len(name_list))\n",
    "#format_by_name.get_group(name_list[1])['Sub_category'][:3]"
   ]
  },
  {
   "cell_type": "code",
   "execution_count": null,
   "metadata": {},
   "outputs": [],
   "source": [
    "\n",
    "\n",
    "male = 0\n",
    "female =0\n",
    "mt = 0\n",
    "ft =0\n",
    "for name in name_list:\n",
    "    m=0\n",
    "    f=0\n",
    "    productname = format_by_name.get_group(name)['product_name']\n",
    "    for pn in productname: #檢測購買男性商品與女性商品用戶數\n",
    "        if 'Men\\'s' in pn:\n",
    "            m =1\n",
    "            mt += 1\n",
    "        elif 'Women\\'s' in pn:\n",
    "            f =1\n",
    "            ft +=1  \n",
    "    male += m\n",
    "    female += f\n",
    "\n",
    "print('直接購買男性商品的用戶數:',male,'總購買男性商品數',mt,'直接購買女性商品的用戶數:',female,'總購買女性商品',ft)"
   ]
  },
  {
   "cell_type": "markdown",
   "metadata": {},
   "source": [
    "關聯式分析(User為購物籃)"
   ]
  },
  {
   "cell_type": "markdown",
   "metadata": {},
   "source": [
    "Category Association Rule"
   ]
  },
  {
   "cell_type": "code",
   "execution_count": null,
   "metadata": {},
   "outputs": [],
   "source": [
    "category_by_name =[]\n",
    "for name in name_list:\n",
    "    new_cate = format_by_name.get_group(name)['Category'] #個別用戶的Categorylist\n",
    "    #print(name,new_cate)\n",
    "    new_cate = list(new_cate)\n",
    "    category_by_name.append(new_cate) #For Association Rule\n",
    "te = TransactionEncoder()\n",
    "te.ary = te.fit(category_by_name).transform(category_by_name)"
   ]
  },
  {
   "cell_type": "code",
   "execution_count": null,
   "metadata": {},
   "outputs": [],
   "source": [
    "Association_df = pd.DataFrame(te.ary, columns=te.columns_)\n",
    "frequent_items = fpgrowth(Association_df,min_support=0.1,use_colnames=True) #調整support值\n",
    "frequent_items['length'] = frequent_items['itemsets'].apply(lambda x:len(x))\n",
    "cate_frequent_format = pd.DataFrame(frequent_items[ (frequent_items['length'] == 1)])\n",
    "#frequent_format = pd.DataFrame(frequent_items)\n",
    "cate_frequent_format = cate_frequent_format.sort_values(by = 'support',ascending = False)\n",
    "cate_frequent_format\n"
   ]
  },
  {
   "cell_type": "code",
   "execution_count": null,
   "metadata": {},
   "outputs": [],
   "source": [
    "#出現Antecedents條件下出現consequents的機率為confidence\n",
    "cate_asso_format = association_rules(frequent_items,metric='confidence',min_threshold=0.6) #調整confidence值\n",
    "cate_asso_format = pd.DataFrame(cate_asso_format[ (cate_asso_format['lift'] > 1)]) #調整lift值\n",
    "cate_asso_format"
   ]
  },
  {
   "cell_type": "markdown",
   "metadata": {},
   "source": [
    "Sub_category Association rule"
   ]
  },
  {
   "cell_type": "code",
   "execution_count": null,
   "metadata": {},
   "outputs": [],
   "source": [
    "sub_category_by_name =[]\n",
    "for name in name_list:\n",
    "    new_cate = format_by_name.get_group(name)['Sub_category'] #個別用戶的Categorylist\n",
    "    #print(name,new_cate)\n",
    "    new_cate = list(new_cate)\n",
    "    sub_category_by_name.append(new_cate) #For Association Rule\n",
    "te = TransactionEncoder()\n",
    "te.ary = te.fit(sub_category_by_name).transform(sub_category_by_name)"
   ]
  },
  {
   "cell_type": "code",
   "execution_count": null,
   "metadata": {},
   "outputs": [],
   "source": [
    "sub_Association_df = pd.DataFrame(te.ary, columns=te.columns_)\n",
    "sub_frequent_items = fpgrowth(sub_Association_df,min_support=0.1,use_colnames=True) #調整support值\n",
    "sub_frequent_items['length'] = sub_frequent_items['itemsets'].apply(lambda x:len(x))\n",
    "sub_cate_frequent_format = pd.DataFrame(sub_frequent_items[ (sub_frequent_items['length'] == 1)])\n",
    "#sub_frequent_format = pd.DataFrame(frequent_items)\n",
    "sub_cate_frequent_format = sub_cate_frequent_format.sort_values(by = 'support',ascending = False)\n",
    "sub_cate_frequent_format"
   ]
  },
  {
   "cell_type": "code",
   "execution_count": null,
   "metadata": {},
   "outputs": [],
   "source": [
    "#出現Antecedents條件下出現consequents的機率為confidence\n",
    "sub_cate_asso_format = association_rules(sub_frequent_items,metric='confidence',min_threshold=0.6) #調整confidence值\n",
    "#sub_cate_asso_format = pd.DataFrame(sub_cate_asso_format[ (sub_cate_asso_format['lift'] > 1)]) #調整lift值\n",
    "sub_cate_asso_format"
   ]
  },
  {
   "cell_type": "code",
   "execution_count": null,
   "metadata": {},
   "outputs": [],
   "source": [
    "#將特別的itemset進行Breakdown\n"
   ]
  }
 ],
 "metadata": {
  "interpreter": {
   "hash": "33a22652e4c5420ca48c466d028533d7d344d7156c9445b0b6e045b564dc456b"
  },
  "kernelspec": {
   "display_name": "Python 3.9.6 64-bit",
   "language": "python",
   "name": "python3"
  },
  "language_info": {
   "codemirror_mode": {
    "name": "ipython",
    "version": 3
   },
   "file_extension": ".py",
   "mimetype": "text/x-python",
   "name": "python",
   "nbconvert_exporter": "python",
   "pygments_lexer": "ipython3",
   "version": "3.9.6"
  },
  "orig_nbformat": 4
 },
 "nbformat": 4,
 "nbformat_minor": 2
}
