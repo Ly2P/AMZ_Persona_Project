{
 "cells": [
  {
   "cell_type": "code",
   "execution_count": 1,
   "metadata": {},
   "outputs": [],
   "source": [
    "from bs4 import BeautifulSoup\n",
    "import requests\n",
    "import re\n",
    "import pandas as pd\n",
    "import time\n",
    "from random import randint\n",
    "from fake_useragent import UserAgent\n",
    "import concurrent.futures\n",
    "from tqdm import notebook\n",
    "from itertools import repeat\n",
    "import tqdm\n",
    "\n"
   ]
  },
  {
   "cell_type": "code",
   "execution_count": 2,
   "metadata": {},
   "outputs": [
    {
     "name": "stdout",
     "output_type": "stream",
     "text": [
      "4826\n"
     ]
    }
   ],
   "source": [
    "crawl_data = pd.read_csv('user_review_v1_MOBIUZ.csv',encoding='utf-8')\n",
    "print(len(crawl_data))"
   ]
  },
  {
   "cell_type": "code",
   "execution_count": 3,
   "metadata": {},
   "outputs": [],
   "source": [
    "user_agent = UserAgent()\n",
    "ua = user_agent"
   ]
  },
  {
   "cell_type": "code",
   "execution_count": 4,
   "metadata": {},
   "outputs": [
    {
     "name": "stdout",
     "output_type": "stream",
     "text": [
      "{'45.63.19.165:80': 0, '34.134.60.185:443': 0, '184.177.84.245:1088': 0, '50.250.205.21:32100': 0, '67.201.33.10:25283': 0, '71.71.162.234:39593': 0, '185.59.66.210:33611': 0, '181.209.219.28:4153': 0, '64.124.191.98:32688': 0, '12.216.103.114:39072': 0, '38.133.200.94:31596': 0, '174.108.154.129:32940': 0, '70.60.230.8:34116': 0, '170.106.155.14:1080': 0, '181.129.144.59:3629': 0}\n"
     ]
    }
   ],
   "source": [
    "proxy_list=['45.63.19.165:80','34.134.60.185:443','184.177.84.245:1088','50.250.205.21:32100','67.201.33.10:25283','71.71.162.234:39593','185.59.66.210:33611','181.209.219.28:4153','64.124.191.98:32688',\n",
    "'12.216.103.114:39072','38.133.200.94:31596','174.108.154.129:32940','70.60.230.8:34116','170.106.155.14:1080','181.129.144.59:3629']\n",
    "test_proxy = {f'{proxy}':0 for proxy in proxy_list}\n",
    "print(test_proxy)\n",
    "def proxy(idx):\n",
    "    proxies = {\"http\":\"socks4://\"+str(proxy_list[idx%len(proxy_list)])}\n",
    "    return proxies\n",
    "    "
   ]
  },
  {
   "cell_type": "code",
   "execution_count": 5,
   "metadata": {},
   "outputs": [],
   "source": [
    "\n",
    "def get_cookies(asin):\n",
    "    url = str('https://www.amazon.com/dp/'+str(asin)+'?th=1')\n",
    "    headers={'User-agent':ua.random}\n",
    "    res = requests.get(url,headers = headers)\n",
    "    cookiejar = res.cookies\n",
    "    return cookiejar\n",
    "\n",
    "#get_cookies(crawl_data['Asin'][randint(0,50)])\n",
    "    \n"
   ]
  },
  {
   "cell_type": "code",
   "execution_count": 6,
   "metadata": {},
   "outputs": [],
   "source": [
    "failed_asin=[]"
   ]
  },
  {
   "cell_type": "code",
   "execution_count": 26,
   "metadata": {},
   "outputs": [],
   "source": [
    "def request_web(url,idx):\n",
    "    headers={'User-agent':ua.random,\n",
    "        'Cookie':str(get_cookies(crawl_data['Asin'][randint(0,50)]))}\n",
    "    prox = proxy(idx)\n",
    "    try:\n",
    "        response = requests.get(url,headers=headers,proxies=prox)\n",
    "        txt = response.text\n",
    "        return txt\n",
    "    except:\n",
    "        #test_proxy[str(f'{prox}')] += 1\n",
    "        failed_asin.append(url)\n",
    "        print('Requests Failed')\n",
    "        return False\n",
    "    \n",
    "        \n"
   ]
  },
  {
   "cell_type": "code",
   "execution_count": 8,
   "metadata": {},
   "outputs": [],
   "source": [
    "def get_content(soap):\n",
    "    category = soap.find_all(\"a\",class_=\"a-link-normal a-color-tertiary\")\n",
    "    price = soap.find(\"span\",class_='a-offscreen')\n",
    "    try:\n",
    "        brand = soap.find(text='Brand').findNext('td').text\n",
    "    except:\n",
    "        brand = 'None'\n",
    "    if category != []:\n",
    "        category = [str(t).split('\">')[1].split('</a>')[0].replace(\" \",\"\").replace('\\n',\"\").replace('&amp;',\"\") for t in category]\n",
    "        try:\n",
    "            price = str(price).split('$')[1].replace('</span>','')\n",
    "        except:\n",
    "            price = 'Non-Available'\n",
    "        content_dict={'category':category,'price':price,'Brand':brand}\n",
    "        return content_dict\n",
    "    else:\n",
    "        #print('Content Failed')\n",
    "        return False\n",
    "        \n",
    "    "
   ]
  },
  {
   "cell_type": "code",
   "execution_count": 13,
   "metadata": {},
   "outputs": [],
   "source": [
    "\n",
    "def scrape(arg):\n",
    "    url,idx = arg\n",
    "    tmp_format = pd.DataFrame({'Asin':[],'Brand':[],'Category':[],'Sub_category':[],'Breakdown_category':[],'Price':[]})\n",
    "    if request_web(url,idx) != False:\n",
    "        soap = BeautifulSoup(request_web(url,idx),\"lxml\")\n",
    "        if get_content(soap) != False:\n",
    "            brand = get_content(soap)['Brand']\n",
    "            category = get_content(soap)['category']\n",
    "            price = get_content(soap)['price']\n",
    "            tmp_format = tmp_format.append({\n",
    "            'Asin':url.split('/dp/')[1],'Category':[category[1]],'Sub_category':[category[-2]],\n",
    "            'Breakdown_category':category[-1],'Price':[price],'Brand':[brand]},ignore_index=True)\n",
    "            time.sleep(3)\n",
    "        else:\n",
    "            failed_asin.append(url)\n",
    "            time.sleep(2)\n",
    "                \n",
    "    return tmp_format\n"
   ]
  },
  {
   "cell_type": "code",
   "execution_count": 10,
   "metadata": {},
   "outputs": [],
   "source": [
    "failed_asin=[]\n",
    "final_format=pd.DataFrame({'Asin':[],'Brand':[],'Category':[],'Sub_category':[],'Breakdown_category':[],'Price':[]})"
   ]
  },
  {
   "cell_type": "code",
   "execution_count": 11,
   "metadata": {},
   "outputs": [],
   "source": [
    "def run():\n",
    "    base_url = 'https://www.amazon.com'\n",
    "    url_list=[f\"{base_url}/dp/{asin}\" for asin in crawl_data['Asin']]\n",
    "    tmp_format = pd.DataFrame({'Asin':[],'Brand':[],'Category':[],'Sub_category':[],'Breakdown_category':[],'Price':[]})\n",
    "    idx_list=[]\n",
    "    for idx in range(len(crawl_data)-1):\n",
    "        idx_list.append(idx)\n",
    "    arg = list(zip(url_list,idx_list))\n",
    "    with concurrent.futures.ThreadPoolExecutor(max_workers=15) as executor:\n",
    "        for result in tqdm.tqdm_notebook((executor.map(scrape,arg)),total=len(url_list)):\n",
    "           tmp_format = tmp_format.append(result,ignore_index = True)\n",
    "        executor.shutdown()\n",
    "    return tmp_format\n",
    "    \n",
    "\n",
    "\n",
    "    "
   ]
  },
  {
   "cell_type": "code",
   "execution_count": 15,
   "metadata": {},
   "outputs": [
    {
     "name": "stderr",
     "output_type": "stream",
     "text": [
      "/var/folders/9f/cbry14m53b7__fd2jstjs52h0000gn/T/ipykernel_45020/3625239620.py:10: TqdmDeprecationWarning: This function will be removed in tqdm==5.0.0\n",
      "Please use `tqdm.notebook.tqdm` instead of `tqdm.tqdm_notebook`\n",
      "  for result in tqdm.tqdm_notebook((executor.map(scrape,arg)),total=len(url_list)):\n"
     ]
    },
    {
     "data": {
      "application/vnd.jupyter.widget-view+json": {
       "model_id": "e942340368f246b2ae29b122d5adddcf",
       "version_major": 2,
       "version_minor": 0
      },
      "text/plain": [
       "  0%|          | 0/4826 [00:00<?, ?it/s]"
      ]
     },
     "metadata": {},
     "output_type": "display_data"
    },
    {
     "name": "stdout",
     "output_type": "stream",
     "text": [
      "__________________RESULT_____________________\n",
      "失敗數:1801\n",
      "Proxy error:{'45.63.19.165:80': 0, '34.134.60.185:443': 0, '184.177.84.245:1088': 0, '50.250.205.21:32100': 0, '67.201.33.10:25283': 0, '71.71.162.234:39593': 0, '185.59.66.210:33611': 0, '181.209.219.28:4153': 0, '64.124.191.98:32688': 0, '12.216.103.114:39072': 0, '38.133.200.94:31596': 0, '174.108.154.129:32940': 0, '70.60.230.8:34116': 0, '170.106.155.14:1080': 0, '181.129.144.59:3629': 0}\n",
      "            Asin       Brand                Category  \\\n",
      "0     B01DUB4GVO      [None]     [OfficeElectronics]   \n",
      "1     B07ZR5DSMQ      [None]     [HouseholdSupplies]   \n",
      "2     B08DP4SVC7      [None]   [LightingCeilingFans]   \n",
      "3     B07ZQM54HP   [ Geyes ]  [ComputersAccessories]   \n",
      "4     B08L7T8RSP  [ Deconn ]  [ComputersAccessories]   \n",
      "...          ...         ...                     ...   \n",
      "3154  B07PY7GLKV      [None]   [LightingCeilingFans]   \n",
      "3155  B08FF6DJNP    [ BenQ ]  [ComputersAccessories]   \n",
      "3156  B07DFFFNWL   [ KTRIO ]  [OfficeSchoolSupplies]   \n",
      "3157  B078HWN5CX    [ BenQ ]  [ComputersAccessories]   \n",
      "3158  B00CD1PTF0    [ Bose ]  [ComputersAccessories]   \n",
      "\n",
      "                     Sub_category           Breakdown_category  \\\n",
      "0             [CreditCardReaders]  StationaryCreditCardReaders   \n",
      "1                [WoodPolishCare]        ScratchCoversRemovers   \n",
      "2                   [LampsShades]                    DeskLamps   \n",
      "3     [Keyboards,MiceAccessories]                         Mice   \n",
      "4         [ComputerCableAdapters]             DVI-HDMIAdapters   \n",
      "...                           ...                          ...   \n",
      "3154                 [WallLights]                  NightLights   \n",
      "3155       [ComputersAccessories]                     Monitors   \n",
      "3156        [MousePadsWristRests]                    MousePads   \n",
      "3157       [ComputersAccessories]                     Monitors   \n",
      "3158      [AudioVideoAccessories]             ComputerSpeakers   \n",
      "\n",
      "                Price  \n",
      "0             [17.80]  \n",
      "1     [Non-Available]  \n",
      "2             [39.99]  \n",
      "3             [21.99]  \n",
      "4             [11.99]  \n",
      "...               ...  \n",
      "3154          [20.39]  \n",
      "3155  [Non-Available]  \n",
      "3156          [18.99]  \n",
      "3157         [269.99]  \n",
      "3158         [127.83]  \n",
      "\n",
      "[3159 rows x 6 columns]\n"
     ]
    }
   ],
   "source": [
    "final_format = run()\n",
    "print('__________________RESULT_____________________')\n",
    "print('失敗數:'+str(len(failed_asin)),\n",
    "      'Proxy error:'+str(test_proxy),\n",
    "      final_format,sep='\\n')"
   ]
  },
  {
   "cell_type": "code",
   "execution_count": 16,
   "metadata": {},
   "outputs": [],
   "source": [
    "final_format.to_csv('Asin_Category_MOBIUZ_list1.csv')"
   ]
  },
  {
   "cell_type": "markdown",
   "metadata": {},
   "source": [
    "#### Retry failed URLs in first crawling \n",
    "##### Retry Loop until it done"
   ]
  },
  {
   "cell_type": "code",
   "execution_count": 34,
   "metadata": {},
   "outputs": [
    {
     "name": "stdout",
     "output_type": "stream",
     "text": [
      "4978\n"
     ]
    }
   ],
   "source": [
    "print(len(failed_asin))"
   ]
  },
  {
   "cell_type": "code",
   "execution_count": 18,
   "metadata": {},
   "outputs": [],
   "source": [
    "failed_format = pd.DataFrame({'fail':failed_asin})\n",
    "failed_format.to_csv('failed_list.csv')"
   ]
  },
  {
   "cell_type": "code",
   "execution_count": 19,
   "metadata": {},
   "outputs": [
    {
     "data": {
      "text/plain": [
       "0       https://www.amazon.com/dp/B08C74694Z\n",
       "1       https://www.amazon.com/dp/B01LR3RAVU\n",
       "2       https://www.amazon.com/dp/B081RFK5JM\n",
       "3             https://www.amazon.com/dp/None\n",
       "4       https://www.amazon.com/dp/B08L7T8RSP\n",
       "                        ...                 \n",
       "1796    https://www.amazon.com/dp/B08FM9KRSZ\n",
       "1797    https://www.amazon.com/dp/B075ZWHNJT\n",
       "1798    https://www.amazon.com/dp/B06XW7MLB4\n",
       "1799    https://www.amazon.com/dp/B0182UTI5W\n",
       "1800    https://www.amazon.com/dp/B07NQVV385\n",
       "Name: fail, Length: 1801, dtype: object"
      ]
     },
     "execution_count": 19,
     "metadata": {},
     "output_type": "execute_result"
    }
   ],
   "source": [
    "failed2_asin=pd.read_csv('failed_list.csv')['fail']\n",
    "failed2_asin"
   ]
  },
  {
   "cell_type": "code",
   "execution_count": 20,
   "metadata": {},
   "outputs": [],
   "source": [
    "failed_asin=[]"
   ]
  },
  {
   "cell_type": "code",
   "execution_count": 21,
   "metadata": {},
   "outputs": [],
   "source": [
    "def fail_run():\n",
    "    url_list=[asin for asin in failed2_asin]\n",
    "    tmp_format = pd.DataFrame({'Asin':[],'Category':[],'Sub_category':[],'Breakdown_category':[],'Price':[]})\n",
    "    idx_list=[]\n",
    "    for idx in range(len(failed2_asin)-1):\n",
    "        idx_list.append(idx)\n",
    "    arg = list(zip(url_list,idx_list))\n",
    "    with concurrent.futures.ThreadPoolExecutor(max_workers=10) as executor:\n",
    "        for result in tqdm.tqdm_notebook((executor.map(scrape,arg)),total=len(url_list)):\n",
    "           tmp_format = tmp_format.append(result,ignore_index = True)\n",
    "        executor.shutdown()\n",
    "    return tmp_format"
   ]
  },
  {
   "cell_type": "code",
   "execution_count": 28,
   "metadata": {},
   "outputs": [
    {
     "name": "stderr",
     "output_type": "stream",
     "text": [
      "/var/folders/9f/cbry14m53b7__fd2jstjs52h0000gn/T/ipykernel_45020/1848244947.py:9: TqdmDeprecationWarning: This function will be removed in tqdm==5.0.0\n",
      "Please use `tqdm.notebook.tqdm` instead of `tqdm.tqdm_notebook`\n",
      "  for result in tqdm.tqdm_notebook((executor.map(scrape,arg)),total=len(url_list)):\n"
     ]
    },
    {
     "data": {
      "application/vnd.jupyter.widget-view+json": {
       "model_id": "288552bfcaf14eba8a2f9f7943623495",
       "version_major": 2,
       "version_minor": 0
      },
      "text/plain": [
       "  0%|          | 0/1801 [00:00<?, ?it/s]"
      ]
     },
     "metadata": {},
     "output_type": "display_data"
    },
    {
     "name": "stdout",
     "output_type": "stream",
     "text": [
      "__________________RESULT_____________________\n",
      "失敗數:4978\n",
      "Proxy error:{'45.63.19.165:80': 0, '34.134.60.185:443': 0, '184.177.84.245:1088': 0, '50.250.205.21:32100': 0, '67.201.33.10:25283': 0, '71.71.162.234:39593': 0, '185.59.66.210:33611': 0, '181.209.219.28:4153': 0, '64.124.191.98:32688': 0, '12.216.103.114:39072': 0, '38.133.200.94:31596': 0, '174.108.154.129:32940': 0, '70.60.230.8:34116': 0, '170.106.155.14:1080': 0, '181.129.144.59:3629': 0}\n",
      "           Asin                Category                  Sub_category  \\\n",
      "0    B01LR3RAVU   [LightingCeilingFans]             [NoveltyLighting]   \n",
      "1    B081RFK5JM             [Furniture]         [HomeOfficeFurniture]   \n",
      "2    B08L7T8RSP  [ComputersAccessories]       [ComputerCableAdapters]   \n",
      "3    B07XBJR7GY   [LightingCeilingFans]             [NoveltyLighting]   \n",
      "4    B07HSFN9W2          [PlayStation4]                 [Accessories]   \n",
      "..          ...                     ...                           ...   \n",
      "128  B077VXV323  [ComputersAccessories]                 [DataStorage]   \n",
      "129  B07W3QM1YR        [NintendoSwitch]  [Faceplates,ProtectorsSkins]   \n",
      "130  B078VM9RVB           [NoveltyMore]                    [HatsCaps]   \n",
      "131  B0841JFFCR  [ComputersAccessories]   [Keyboards,MiceAccessories]   \n",
      "132  B075ZWHNJT   [AccessoriesSupplies]                 [VideoCables]   \n",
      "\n",
      "    Breakdown_category            Price                Brand  \n",
      "0       LEDStripLights          [16.99]  [ Power Practical ]  \n",
      "1      HomeOfficeDesks  [Non-Available]         [ NSdirect ]  \n",
      "2     DVI-HDMIAdapters          [11.99]           [ Deconn ]  \n",
      "3       LEDStripLights          [25.98]        [ Nexillumi ]  \n",
      "4             Headsets         [249.99]      [ SteelSeries ]  \n",
      "..                 ...              ...                  ...  \n",
      "128     USBFlashDrives           [7.53]          [ SanDisk ]  \n",
      "129   ScreenProtectors  [Non-Available]               [None]  \n",
      "130       BaseballCaps          [16.98]               [None]  \n",
      "131          Keyboards          [42.99]        [ HK GAMING ]  \n",
      "132         HDMICables          [17.54]    [ Amazon Basics ]  \n",
      "\n",
      "[133 rows x 6 columns]\n"
     ]
    }
   ],
   "source": [
    "retry_format = fail_run()\n",
    "print('__________________RESULT_____________________')\n",
    "print('失敗數:'+str(len(failed_asin)),\n",
    "      'Proxy error:'+str(test_proxy),\n",
    "      retry_format,sep='\\n')\n"
   ]
  },
  {
   "cell_type": "code",
   "execution_count": 29,
   "metadata": {},
   "outputs": [
    {
     "data": {
      "text/html": [
       "<div>\n",
       "<style scoped>\n",
       "    .dataframe tbody tr th:only-of-type {\n",
       "        vertical-align: middle;\n",
       "    }\n",
       "\n",
       "    .dataframe tbody tr th {\n",
       "        vertical-align: top;\n",
       "    }\n",
       "\n",
       "    .dataframe thead th {\n",
       "        text-align: right;\n",
       "    }\n",
       "</style>\n",
       "<table border=\"1\" class=\"dataframe\">\n",
       "  <thead>\n",
       "    <tr style=\"text-align: right;\">\n",
       "      <th></th>\n",
       "      <th>Asin</th>\n",
       "      <th>Category</th>\n",
       "      <th>Sub_category</th>\n",
       "      <th>Breakdown_category</th>\n",
       "      <th>Price</th>\n",
       "      <th>Brand</th>\n",
       "    </tr>\n",
       "  </thead>\n",
       "  <tbody>\n",
       "    <tr>\n",
       "      <th>0</th>\n",
       "      <td>B01LR3RAVU</td>\n",
       "      <td>[LightingCeilingFans]</td>\n",
       "      <td>[NoveltyLighting]</td>\n",
       "      <td>LEDStripLights</td>\n",
       "      <td>[16.99]</td>\n",
       "      <td>[ Power Practical ]</td>\n",
       "    </tr>\n",
       "    <tr>\n",
       "      <th>1</th>\n",
       "      <td>B081RFK5JM</td>\n",
       "      <td>[Furniture]</td>\n",
       "      <td>[HomeOfficeFurniture]</td>\n",
       "      <td>HomeOfficeDesks</td>\n",
       "      <td>[Non-Available]</td>\n",
       "      <td>[ NSdirect ]</td>\n",
       "    </tr>\n",
       "    <tr>\n",
       "      <th>2</th>\n",
       "      <td>B08L7T8RSP</td>\n",
       "      <td>[ComputersAccessories]</td>\n",
       "      <td>[ComputerCableAdapters]</td>\n",
       "      <td>DVI-HDMIAdapters</td>\n",
       "      <td>[11.99]</td>\n",
       "      <td>[ Deconn ]</td>\n",
       "    </tr>\n",
       "    <tr>\n",
       "      <th>3</th>\n",
       "      <td>B07XBJR7GY</td>\n",
       "      <td>[LightingCeilingFans]</td>\n",
       "      <td>[NoveltyLighting]</td>\n",
       "      <td>LEDStripLights</td>\n",
       "      <td>[25.98]</td>\n",
       "      <td>[ Nexillumi ]</td>\n",
       "    </tr>\n",
       "    <tr>\n",
       "      <th>4</th>\n",
       "      <td>B07HSFN9W2</td>\n",
       "      <td>[PlayStation4]</td>\n",
       "      <td>[Accessories]</td>\n",
       "      <td>Headsets</td>\n",
       "      <td>[249.99]</td>\n",
       "      <td>[ SteelSeries ]</td>\n",
       "    </tr>\n",
       "    <tr>\n",
       "      <th>...</th>\n",
       "      <td>...</td>\n",
       "      <td>...</td>\n",
       "      <td>...</td>\n",
       "      <td>...</td>\n",
       "      <td>...</td>\n",
       "      <td>...</td>\n",
       "    </tr>\n",
       "    <tr>\n",
       "      <th>128</th>\n",
       "      <td>B077VXV323</td>\n",
       "      <td>[ComputersAccessories]</td>\n",
       "      <td>[DataStorage]</td>\n",
       "      <td>USBFlashDrives</td>\n",
       "      <td>[7.53]</td>\n",
       "      <td>[ SanDisk ]</td>\n",
       "    </tr>\n",
       "    <tr>\n",
       "      <th>129</th>\n",
       "      <td>B07W3QM1YR</td>\n",
       "      <td>[NintendoSwitch]</td>\n",
       "      <td>[Faceplates,ProtectorsSkins]</td>\n",
       "      <td>ScreenProtectors</td>\n",
       "      <td>[Non-Available]</td>\n",
       "      <td>[None]</td>\n",
       "    </tr>\n",
       "    <tr>\n",
       "      <th>130</th>\n",
       "      <td>B078VM9RVB</td>\n",
       "      <td>[NoveltyMore]</td>\n",
       "      <td>[HatsCaps]</td>\n",
       "      <td>BaseballCaps</td>\n",
       "      <td>[16.98]</td>\n",
       "      <td>[None]</td>\n",
       "    </tr>\n",
       "    <tr>\n",
       "      <th>131</th>\n",
       "      <td>B0841JFFCR</td>\n",
       "      <td>[ComputersAccessories]</td>\n",
       "      <td>[Keyboards,MiceAccessories]</td>\n",
       "      <td>Keyboards</td>\n",
       "      <td>[42.99]</td>\n",
       "      <td>[ HK GAMING ]</td>\n",
       "    </tr>\n",
       "    <tr>\n",
       "      <th>132</th>\n",
       "      <td>B075ZWHNJT</td>\n",
       "      <td>[AccessoriesSupplies]</td>\n",
       "      <td>[VideoCables]</td>\n",
       "      <td>HDMICables</td>\n",
       "      <td>[17.54]</td>\n",
       "      <td>[ Amazon Basics ]</td>\n",
       "    </tr>\n",
       "  </tbody>\n",
       "</table>\n",
       "<p>133 rows × 6 columns</p>\n",
       "</div>"
      ],
      "text/plain": [
       "           Asin                Category                  Sub_category  \\\n",
       "0    B01LR3RAVU   [LightingCeilingFans]             [NoveltyLighting]   \n",
       "1    B081RFK5JM             [Furniture]         [HomeOfficeFurniture]   \n",
       "2    B08L7T8RSP  [ComputersAccessories]       [ComputerCableAdapters]   \n",
       "3    B07XBJR7GY   [LightingCeilingFans]             [NoveltyLighting]   \n",
       "4    B07HSFN9W2          [PlayStation4]                 [Accessories]   \n",
       "..          ...                     ...                           ...   \n",
       "128  B077VXV323  [ComputersAccessories]                 [DataStorage]   \n",
       "129  B07W3QM1YR        [NintendoSwitch]  [Faceplates,ProtectorsSkins]   \n",
       "130  B078VM9RVB           [NoveltyMore]                    [HatsCaps]   \n",
       "131  B0841JFFCR  [ComputersAccessories]   [Keyboards,MiceAccessories]   \n",
       "132  B075ZWHNJT   [AccessoriesSupplies]                 [VideoCables]   \n",
       "\n",
       "    Breakdown_category            Price                Brand  \n",
       "0       LEDStripLights          [16.99]  [ Power Practical ]  \n",
       "1      HomeOfficeDesks  [Non-Available]         [ NSdirect ]  \n",
       "2     DVI-HDMIAdapters          [11.99]           [ Deconn ]  \n",
       "3       LEDStripLights          [25.98]        [ Nexillumi ]  \n",
       "4             Headsets         [249.99]      [ SteelSeries ]  \n",
       "..                 ...              ...                  ...  \n",
       "128     USBFlashDrives           [7.53]          [ SanDisk ]  \n",
       "129   ScreenProtectors  [Non-Available]               [None]  \n",
       "130       BaseballCaps          [16.98]               [None]  \n",
       "131          Keyboards          [42.99]        [ HK GAMING ]  \n",
       "132         HDMICables          [17.54]    [ Amazon Basics ]  \n",
       "\n",
       "[133 rows x 6 columns]"
      ]
     },
     "execution_count": 29,
     "metadata": {},
     "output_type": "execute_result"
    }
   ],
   "source": [
    "retry_format"
   ]
  },
  {
   "cell_type": "code",
   "execution_count": 30,
   "metadata": {},
   "outputs": [],
   "source": [
    "retry_format.to_csv('Asin_Category_retry.csv')"
   ]
  },
  {
   "cell_type": "markdown",
   "metadata": {},
   "source": [
    "#### Concat 1st & 2nd Crawling result"
   ]
  },
  {
   "cell_type": "code",
   "execution_count": 31,
   "metadata": {},
   "outputs": [],
   "source": [
    "one = pd.read_csv('Asin_Category_MOBIUZ_list1.csv')\n",
    "retry= pd.read_csv('Asin_Category_retry.csv')\n"
   ]
  },
  {
   "cell_type": "code",
   "execution_count": 32,
   "metadata": {},
   "outputs": [
    {
     "name": "stdout",
     "output_type": "stream",
     "text": [
      "      Unnamed: 0        Asin                Brand                  Category  \\\n",
      "0              0  B01DUB4GVO             ['None']     ['OfficeElectronics']   \n",
      "1              1  B07ZR5DSMQ             ['None']     ['HouseholdSupplies']   \n",
      "2              2  B08DP4SVC7             ['None']   ['LightingCeilingFans']   \n",
      "3              3  B07ZQM54HP          [' Geyes ']  ['ComputersAccessories']   \n",
      "4              4  B08L7T8RSP         [' Deconn ']  ['ComputersAccessories']   \n",
      "...          ...         ...                  ...                       ...   \n",
      "3287         128  B077VXV323        [' SanDisk ']  ['ComputersAccessories']   \n",
      "3288         129  B07W3QM1YR             ['None']        ['NintendoSwitch']   \n",
      "3289         130  B078VM9RVB             ['None']           ['NoveltyMore']   \n",
      "3290         131  B0841JFFCR      [' HK GAMING ']  ['ComputersAccessories']   \n",
      "3291         132  B075ZWHNJT  [' Amazon Basics ']   ['AccessoriesSupplies']   \n",
      "\n",
      "                        Sub_category           Breakdown_category  \\\n",
      "0              ['CreditCardReaders']  StationaryCreditCardReaders   \n",
      "1                 ['WoodPolishCare']        ScratchCoversRemovers   \n",
      "2                    ['LampsShades']                    DeskLamps   \n",
      "3      ['Keyboards,MiceAccessories']                         Mice   \n",
      "4          ['ComputerCableAdapters']             DVI-HDMIAdapters   \n",
      "...                              ...                          ...   \n",
      "3287                 ['DataStorage']               USBFlashDrives   \n",
      "3288  ['Faceplates,ProtectorsSkins']             ScreenProtectors   \n",
      "3289                    ['HatsCaps']                 BaseballCaps   \n",
      "3290   ['Keyboards,MiceAccessories']                    Keyboards   \n",
      "3291                 ['VideoCables']                   HDMICables   \n",
      "\n",
      "                  Price  \n",
      "0             ['17.80']  \n",
      "1     ['Non-Available']  \n",
      "2             ['39.99']  \n",
      "3             ['21.99']  \n",
      "4             ['11.99']  \n",
      "...                 ...  \n",
      "3287           ['7.53']  \n",
      "3288  ['Non-Available']  \n",
      "3289          ['16.98']  \n",
      "3290          ['42.99']  \n",
      "3291          ['17.54']  \n",
      "\n",
      "[3292 rows x 7 columns]\n"
     ]
    }
   ],
   "source": [
    "concat_all = pd.concat([one,retry],ignore_index = True)\n",
    "print(concat_all)"
   ]
  },
  {
   "cell_type": "code",
   "execution_count": 33,
   "metadata": {},
   "outputs": [],
   "source": [
    "concat_all.to_csv('Asin_Category_MOBIUZ_list.csv')"
   ]
  }
 ],
 "metadata": {
  "interpreter": {
   "hash": "33a22652e4c5420ca48c466d028533d7d344d7156c9445b0b6e045b564dc456b"
  },
  "kernelspec": {
   "display_name": "Python 3.9.6 64-bit",
   "language": "python",
   "name": "python3"
  },
  "language_info": {
   "codemirror_mode": {
    "name": "ipython",
    "version": 3
   },
   "file_extension": ".py",
   "mimetype": "text/x-python",
   "name": "python",
   "nbconvert_exporter": "python",
   "pygments_lexer": "ipython3",
   "version": "3.9.6"
  },
  "orig_nbformat": 4
 },
 "nbformat": 4,
 "nbformat_minor": 2
}
